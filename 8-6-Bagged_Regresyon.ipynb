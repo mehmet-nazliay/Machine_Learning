{
 "cells": [
  {
   "cell_type": "code",
   "execution_count": 71,
   "metadata": {},
   "outputs": [],
   "source": [
    "import numpy as np\n",
    "import pandas as pd \n",
    "from sklearn.model_selection import train_test_split, GridSearchCV,cross_val_score\n",
    "from sklearn.metrics import mean_squared_error, r2_score\n",
    "import matplotlib.pyplot as plt\n",
    "from sklearn.preprocessing import scale \n",
    "from sklearn import model_selection\n",
    "from sklearn.tree import DecisionTreeRegressor, DecisionTreeClassifier\n",
    "from sklearn.neighbors import KNeighborsRegressor\n",
    "from sklearn.ensemble import BaggingRegressor\n",
    "\n",
    "from warnings import filterwarnings\n",
    "filterwarnings('ignore')"
   ]
  },
  {
   "cell_type": "code",
   "execution_count": 72,
   "metadata": {},
   "outputs": [],
   "source": [
    "hit = pd.read_csv(\"Hitters.csv\")\n",
    "df = hit.copy()\n",
    "df = df.dropna()\n",
    "dms = pd.get_dummies(df[['League', 'Division', 'NewLeague']])\n",
    "y = df[\"Salary\"]\n",
    "X_ = df.drop(['Salary', 'League', 'Division', 'NewLeague'], axis=1).astype('float64')\n",
    "X = pd.concat([X_, dms[['League_N', 'Division_W', 'NewLeague_N']]], axis=1)\n",
    "X_train, X_test, y_train, y_test = train_test_split(X, y, \n",
    "                                                    test_size=0.25, \n",
    "                                                    random_state=42)\n"
   ]
  },
  {
   "cell_type": "code",
   "execution_count": 73,
   "metadata": {},
   "outputs": [
    {
     "data": {
      "text/plain": [
       "BaggingRegressor(base_estimator=None, bootstrap=True, bootstrap_features=True,\n",
       "                 max_features=1.0, max_samples=1.0, n_estimators=10,\n",
       "                 n_jobs=None, oob_score=False, random_state=None, verbose=0,\n",
       "                 warm_start=False)"
      ]
     },
     "execution_count": 73,
     "metadata": {},
     "output_type": "execute_result"
    }
   ],
   "source": [
    "bag_model = BaggingRegressor(bootstrap_features = True)\n",
    "bag_model.fit(X_train, y_train)"
   ]
  },
  {
   "cell_type": "code",
   "execution_count": 74,
   "metadata": {},
   "outputs": [
    {
     "data": {
      "text/plain": [
       "10"
      ]
     },
     "execution_count": 74,
     "metadata": {},
     "output_type": "execute_result"
    }
   ],
   "source": [
    "bag_model.n_estimators"
   ]
  },
  {
   "cell_type": "code",
   "execution_count": 64,
   "metadata": {},
   "outputs": [
    {
     "data": {
      "text/plain": [
       "[DecisionTreeRegressor(criterion='mse', max_depth=None, max_features=None,\n",
       "                       max_leaf_nodes=None, min_impurity_decrease=0.0,\n",
       "                       min_impurity_split=None, min_samples_leaf=1,\n",
       "                       min_samples_split=2, min_weight_fraction_leaf=0.0,\n",
       "                       presort=False, random_state=859498983, splitter='best'),\n",
       " DecisionTreeRegressor(criterion='mse', max_depth=None, max_features=None,\n",
       "                       max_leaf_nodes=None, min_impurity_decrease=0.0,\n",
       "                       min_impurity_split=None, min_samples_leaf=1,\n",
       "                       min_samples_split=2, min_weight_fraction_leaf=0.0,\n",
       "                       presort=False, random_state=1858583215, splitter='best'),\n",
       " DecisionTreeRegressor(criterion='mse', max_depth=None, max_features=None,\n",
       "                       max_leaf_nodes=None, min_impurity_decrease=0.0,\n",
       "                       min_impurity_split=None, min_samples_leaf=1,\n",
       "                       min_samples_split=2, min_weight_fraction_leaf=0.0,\n",
       "                       presort=False, random_state=566239221, splitter='best'),\n",
       " DecisionTreeRegressor(criterion='mse', max_depth=None, max_features=None,\n",
       "                       max_leaf_nodes=None, min_impurity_decrease=0.0,\n",
       "                       min_impurity_split=None, min_samples_leaf=1,\n",
       "                       min_samples_split=2, min_weight_fraction_leaf=0.0,\n",
       "                       presort=False, random_state=921960853, splitter='best'),\n",
       " DecisionTreeRegressor(criterion='mse', max_depth=None, max_features=None,\n",
       "                       max_leaf_nodes=None, min_impurity_decrease=0.0,\n",
       "                       min_impurity_split=None, min_samples_leaf=1,\n",
       "                       min_samples_split=2, min_weight_fraction_leaf=0.0,\n",
       "                       presort=False, random_state=1353393473, splitter='best'),\n",
       " DecisionTreeRegressor(criterion='mse', max_depth=None, max_features=None,\n",
       "                       max_leaf_nodes=None, min_impurity_decrease=0.0,\n",
       "                       min_impurity_split=None, min_samples_leaf=1,\n",
       "                       min_samples_split=2, min_weight_fraction_leaf=0.0,\n",
       "                       presort=False, random_state=154736223, splitter='best'),\n",
       " DecisionTreeRegressor(criterion='mse', max_depth=None, max_features=None,\n",
       "                       max_leaf_nodes=None, min_impurity_decrease=0.0,\n",
       "                       min_impurity_split=None, min_samples_leaf=1,\n",
       "                       min_samples_split=2, min_weight_fraction_leaf=0.0,\n",
       "                       presort=False, random_state=216238113, splitter='best'),\n",
       " DecisionTreeRegressor(criterion='mse', max_depth=None, max_features=None,\n",
       "                       max_leaf_nodes=None, min_impurity_decrease=0.0,\n",
       "                       min_impurity_split=None, min_samples_leaf=1,\n",
       "                       min_samples_split=2, min_weight_fraction_leaf=0.0,\n",
       "                       presort=False, random_state=779895880, splitter='best'),\n",
       " DecisionTreeRegressor(criterion='mse', max_depth=None, max_features=None,\n",
       "                       max_leaf_nodes=None, min_impurity_decrease=0.0,\n",
       "                       min_impurity_split=None, min_samples_leaf=1,\n",
       "                       min_samples_split=2, min_weight_fraction_leaf=0.0,\n",
       "                       presort=False, random_state=830778915, splitter='best'),\n",
       " DecisionTreeRegressor(criterion='mse', max_depth=None, max_features=None,\n",
       "                       max_leaf_nodes=None, min_impurity_decrease=0.0,\n",
       "                       min_impurity_split=None, min_samples_leaf=1,\n",
       "                       min_samples_split=2, min_weight_fraction_leaf=0.0,\n",
       "                       presort=False, random_state=2119434070, splitter='best')]"
      ]
     },
     "execution_count": 64,
     "metadata": {},
     "output_type": "execute_result"
    }
   ],
   "source": [
    "bag_model.estimators_"
   ]
  },
  {
   "cell_type": "code",
   "execution_count": 65,
   "metadata": {},
   "outputs": [
    {
     "data": {
      "text/plain": [
       "[array([ 20,  55, 162, 145,  82, 166, 129, 139, 178,  75, 103, 156,  88,\n",
       "        151,  18,  19,  15,  84, 115,  30, 170, 171,  67, 194, 159,  28,\n",
       "         30, 190, 101, 128,  95,  95, 148, 145,  57, 181,  22, 117,  43,\n",
       "        170,  85,  65, 168, 114, 194, 110,  27, 146,  49, 107,   3,  99,\n",
       "        125, 181, 183,  99,  16, 167, 187, 112, 173, 172,  96, 128,  60,\n",
       "         62,  98, 106, 144, 123,  56,  95, 114,  44, 119,  53, 103, 122,\n",
       "        156,  72, 118, 151,  29,   1, 140,  70,  20,  22, 163, 130,  65,\n",
       "         57,  97, 115,   0, 157,  24, 163,  87, 132, 187,  31,  42, 195,\n",
       "        155,   2, 119, 134, 154, 104, 153,  92, 101,  45, 108,  22,  55,\n",
       "         21,  86, 161, 173, 191,  50, 178, 140,   8, 139, 134,   6,   1,\n",
       "        195, 130, 167, 174,  11,  13, 108, 128,  88, 141, 188,  37,  74,\n",
       "        113,  12, 157,  19, 153, 120,  96,  88, 117, 195, 108, 148, 147,\n",
       "        138, 143,   1,  10,  91,  95, 118,  42, 135, 156,  26,  14,  65,\n",
       "         64, 180, 131,   8,  44, 159,  43, 166,  59,  56,  10, 123, 140,\n",
       "         60, 193,  27,  52,  48,  13, 160, 143,  65, 172,  76,  83, 182,\n",
       "        121,  67]),\n",
       " array([ 14,  45, 174, 132, 183, 109,  75, 147,  10, 103, 191, 110,  74,\n",
       "         36, 163, 108, 172,   3, 171,  95,  69,  45,  88, 106,  66, 135,\n",
       "          6, 109,  22, 110, 149, 140, 156, 166,  13,  82,  16,  25,  77,\n",
       "        113, 169,   3, 126, 117, 126,  81,  50,  23,   0,  50,  32,  23,\n",
       "        190, 150, 109,   1, 100,  60,  45, 136,  75,  13,  70, 170, 194,\n",
       "         37, 110,  20, 100,  60,  90,  26, 135, 177,  42, 138, 193, 115,\n",
       "         67, 190, 181, 134,   6, 135, 170,  57,  99,  48,  27,  62,  66,\n",
       "         48,  67, 194, 122, 146,  44,  32, 106,  55,   2, 132, 159,  48,\n",
       "          3,  63,  29, 161, 103, 147, 185,  41,  88,  25, 167, 123,   3,\n",
       "         66,  96, 144,  83, 126, 110, 109, 146,  71,  64, 147, 161,  11,\n",
       "        163, 105,  20, 100,  52, 112,  41, 145,  22,  60, 128,  20, 149,\n",
       "         93, 146,  59,  59,  48, 143, 131, 186, 183,  46,  18,  54,  47,\n",
       "        108, 181, 160, 183, 188, 167, 146, 169, 103, 184, 112,  92, 133,\n",
       "        117,  23,  93,  12, 101,  90,  95, 155,  99,   2, 182,  30, 182,\n",
       "         37,  41,  25,  29,  29, 159, 172,  94, 158, 137, 136, 172, 179,\n",
       "         41,   2]),\n",
       " array([ 31,  69,  28, 149, 130,  13, 124,  75, 107, 132,  51,  70,  44,\n",
       "         85, 174,  19,  41,  92,  83, 112,  39,  21,  75, 127,  77,  67,\n",
       "         66,  18,  86,   9,  48, 183,  54, 136,  66,  21,  28,  58,  85,\n",
       "        192,  64, 196,  66,   8,   2, 132, 131,  44, 124,  63, 157, 130,\n",
       "         39,  94,  54,  92, 113, 180,  88, 150,  35, 100,  22, 123,  82,\n",
       "         71, 176, 101, 110,  33,   5, 151,  80,  59, 185, 118,  69,  83,\n",
       "          7,  55,   1, 115, 189,   3, 167,  79,  91, 143,  15,  52, 118,\n",
       "         25,  58,  14, 153,   5,  71, 169, 181,  77,  18, 126,  17, 128,\n",
       "        107, 116,  54, 166, 140, 175, 144, 142, 131,  18, 114, 105,  51,\n",
       "        133,  18, 131,   2, 143,   2,  21, 111, 154, 181, 130, 167,   8,\n",
       "        165,  99,  48, 130, 188, 136, 154,  75,   0,  74,  99,  87, 165,\n",
       "         48,  39, 196,   0,  64,  24,   2, 186, 194,   1, 142,  14, 103,\n",
       "          1, 178, 138,  72, 103,  85,  96,  22,  22, 180,  13, 153,  38,\n",
       "        147, 149,  79,  56, 142,  56, 109, 135,  99, 185, 196,  61,  27,\n",
       "         92,  72,  40,  79, 114,  10,  23, 130, 162, 120, 173,  80, 193,\n",
       "         98,  12]),\n",
       " array([110,  34, 115,  16,  52,   8, 117,   3, 139, 106,  64,  36,  85,\n",
       "         56,  73, 169,  91,  99,  19,   0,  92,  62,  71, 165, 100, 131,\n",
       "        185, 186, 125, 186,  76,  65, 183,  81, 132,  98,  15,  26, 133,\n",
       "         94, 159,  32,  47, 127,  18, 144,  10,  53,   4, 155, 170,  55,\n",
       "         21,  80,  33, 127, 103, 145,  50, 123, 180, 143,  72, 127,  79,\n",
       "         61, 167,  94,  91, 107, 162, 115,   8,  24,  78, 187,   5,  67,\n",
       "        117,   5,  39, 129,  51, 125,  26,  22,  80, 130, 122, 185,  12,\n",
       "        105, 125,  95,  28, 128,  47, 111,  14, 168, 139,  41, 134,  95,\n",
       "        192,  86, 162, 183,  12, 110, 186, 139,   7,  81, 154,  75, 153,\n",
       "        106,   9, 166, 192,  50,  10,  13,  94, 131, 196,  86,  38,  49,\n",
       "         76, 108, 104,  80, 136,  37,  87, 168,  91, 126,  89,  65, 123,\n",
       "        121,  45, 151, 112,  99,  83,  30, 160,  13, 179,  18, 148,  94,\n",
       "        174, 171, 191, 144, 128,  72,  89,  33, 135, 137, 196,   8, 151,\n",
       "        117, 131,  79, 163, 100, 186,  15,  16,  16,  99,  16, 109,  61,\n",
       "        134, 191, 147, 173, 107,  75, 160, 136,  48,   4, 185, 114,  12,\n",
       "         24,   7]),\n",
       " array([  8, 145,  64,  70, 152,  23, 102,   2, 142,  36, 150,  31,  83,\n",
       "        116, 102, 157,   2,  59,   0, 117, 169,  61, 169,  76, 145,  56,\n",
       "         80,  64, 146, 182,   0, 141,  35, 106, 188, 104,   2,  25, 120,\n",
       "         90, 127,  12, 135,   1, 124, 185,  11, 141,  93,  42,  32, 146,\n",
       "         51,  97, 171, 112, 161,  65, 173,  62,  71,  66, 116,  22,  97,\n",
       "         43,  59, 126,  58, 120, 157,  88,  52,   4,  57, 138, 124,  74,\n",
       "         20,  83,  10,  31, 129,  85,  32, 101, 172,  76, 147,  23,  47,\n",
       "         78, 105, 140, 110,  60,  94,  75, 150,  47,  42,  13, 137, 166,\n",
       "         40, 193,  69,  97,  91,  40, 196, 111, 155,  95,  48,  35,  19,\n",
       "         61, 168,  10,   5, 168,  81,  33, 162,  31,  38, 168,  12,  42,\n",
       "         43, 128, 170,  87, 161, 161,  91,  22, 137,  49, 118, 143, 120,\n",
       "        167, 100,  60,  93,  17,  45, 182,  96,   1,  95, 140,  63, 129,\n",
       "        143, 128, 117,  69, 170, 128, 194,  23,  99, 123,  66, 120, 123,\n",
       "          2,  46,  68,   3, 102, 117, 150,  66, 105,  78,  35,  13, 145,\n",
       "         85,  98,  92, 121,   0,  29, 101, 107, 196,  18, 147,  36,  61,\n",
       "         22,   3]),\n",
       " array([153, 182,  69, 120, 160, 153, 134, 148, 175,  91,  29, 196,  55,\n",
       "        187,  50, 140, 144,   2,  42,   3,  58,  80, 140,  97,  40,  67,\n",
       "        178,  50, 120,  71,  57,  69,  29,  99,  58, 115,  86, 141,  76,\n",
       "        127,  16, 115, 176,  41, 121, 104, 131, 145, 187, 117, 186,  85,\n",
       "          9, 151,  79, 100,  64,  48,  91,   3, 157,  56, 162, 138, 186,\n",
       "        166, 144, 161,  40,  77, 193, 191, 125, 153,  46, 149, 125, 153,\n",
       "         75,  63, 117,  52, 136,  80,  64, 120,  41,  71,  84, 105,  24,\n",
       "         38,  23,  28,  98, 128, 136,  68, 109, 126, 159,  67, 107, 117,\n",
       "         14,  12, 194, 116,  21,  32,  58, 191, 139,  86, 180, 108,  76,\n",
       "         16, 103, 121, 182,   6,  17,  61, 123,  13, 115,  48,  36,  15,\n",
       "        181,   1,  63, 106, 157, 194, 183, 118,  21, 124,  31, 118,  55,\n",
       "        129,  34, 159,  20, 194,  98,  77,  57, 106,  69,  73, 150,  64,\n",
       "        126, 174, 120, 167,  48,  75, 126, 172,  89,  83,  96, 172, 129,\n",
       "         63, 147,  23, 183,   6,  76, 180,  69,  69, 185, 175,  69, 184,\n",
       "         86,  35, 164, 138,  78, 136, 183,   9,  73,  51, 137,  37,  59,\n",
       "        149, 150]),\n",
       " array([ 27,  22,  37, 169,  83, 174,  80,  59,  22, 165, 115,  18,  49,\n",
       "        180, 119,  77, 171,  65,  10,  37, 154,  38,  52, 155,   6, 179,\n",
       "        100,  35, 122, 161, 124, 170,  16, 189,  15,  94, 109, 119,  23,\n",
       "         82, 145,   7,  51,  76,  97, 192, 132,  34,  28, 120, 102, 165,\n",
       "        156, 154, 123,  25, 178, 138, 120,  53, 112,  75,  38,  23,  83,\n",
       "        170, 104, 135,   6, 118,  81, 142,  37,  69,  59, 139,   2,  50,\n",
       "        158,  54,  71, 161, 151,  88, 195, 104, 177,  53,  69, 186,  74,\n",
       "        124,  55, 180, 119, 157,   8,  42,  19, 126, 131,  67, 141,  39,\n",
       "        101,  19, 161,  95, 108,  98,  63,  27, 155,  96, 175, 104, 160,\n",
       "          1,  88, 187, 123,  45, 110, 102,  18, 109, 165,  62,   0, 182,\n",
       "          6, 142, 108, 130,  47, 150,  29, 114,  62, 182, 107,  34,  93,\n",
       "         58, 177,  59,  90, 107,  27, 150,   4,  74,   5, 114, 113, 163,\n",
       "        160,  81, 105,  19,  84,   6,  21,  23, 167, 152, 174,  22,  61,\n",
       "        164, 108,  67,  41, 169, 193, 133, 137, 110,  83,   9,  90,  88,\n",
       "         84, 143, 178, 179,  60,  79, 159,  72,  38,   3,  65,  83, 113,\n",
       "        170,   9]),\n",
       " array([123,  68, 134, 133,  81,   7,  61,  81,  33,  51, 179, 135, 128,\n",
       "         10, 193, 127, 122, 106,  50, 155,  81, 170, 117, 144, 192,  34,\n",
       "        173, 148,  46, 192, 190, 157,  61,   5,   7,  45,  92, 187, 174,\n",
       "        132, 180,  12,  29,  41,  34, 171,  42,  60,  52,  49, 187, 114,\n",
       "         24, 121,  88,   4,  14,   5,  23,  19, 106,  96,  30, 138,   4,\n",
       "         78, 195, 185,  70, 175,  72,  61,  32,  39,  81,  80,  24,  13,\n",
       "        178,  61, 185,   2, 153, 180, 167,  17,  21,  39, 117, 140, 136,\n",
       "        174, 102, 106, 175,  81, 183, 169,  74, 188,  92,  90, 135,  10,\n",
       "         67,  62,  16,  38, 137,  81,  71,  58,  55, 150, 163,  44, 116,\n",
       "        148,  61, 102, 124, 160, 191, 106, 189,  58, 129,  87,  21, 123,\n",
       "         10,  98, 189,  38, 137, 178, 117, 134, 191, 155, 124,  65, 155,\n",
       "        146,  40, 112, 156, 184, 179, 142,  43, 171, 116,  54, 115,   2,\n",
       "        130,  36, 112,  63,  42,  31, 133,  23,  19, 165, 155, 166, 169,\n",
       "         63, 151,  75, 115, 106,  84,  17, 186, 118, 162,  26,  26,  33,\n",
       "        186, 114,  10,  82, 179, 167,  87, 140, 172,  39, 124,  89, 195,\n",
       "        168,  28]),\n",
       " array([117, 115,  55,  69, 187,  85, 147, 174, 100, 190, 140, 195,  84,\n",
       "         18,   8, 157, 178, 115, 133,  30,  24, 146, 156,  28,   8, 179,\n",
       "         98,  43, 159, 110, 170,  76, 122, 176,  41,  94,  59,  63, 187,\n",
       "        160, 142,   8, 184, 177, 181,  22,  80, 102, 167, 156,   0, 186,\n",
       "        180,  73,  86, 106,  71, 153,  65,  38, 183, 131,  18, 174,   9,\n",
       "         56,  74,  25, 124, 149, 119, 160,  28,  65,  65, 169, 106,   8,\n",
       "         99,  85, 189,  50,  61,  54, 168, 195, 109,  53, 115,  94,  24,\n",
       "        151,  92, 171,  23, 144, 119,  77, 131, 173,  48, 189,   0, 159,\n",
       "         75, 114, 147,  49,  88, 108,  67, 148,  55, 154,  43,  39, 146,\n",
       "        173,  36,  23,  11, 141,  97, 184, 186,  39, 131, 100,  81, 101,\n",
       "         67, 161, 174, 159, 151, 175,  11,  10, 138, 121,  84,  11,  86,\n",
       "         58, 164, 196, 170,  69, 130, 111,  61,  44, 118, 137, 183,  88,\n",
       "        138, 172,  58, 114, 146, 177,  41, 158, 123,  98, 108,  75,  81,\n",
       "          0, 145, 146,  81, 169, 166,  96,  56, 164, 183,   2,  99, 136,\n",
       "        183, 106, 192,  66, 121, 190,  76, 132, 102,   0,  91,  21,  55,\n",
       "        162, 178]),\n",
       " array([ 35, 100,  22,  59, 108,  88, 100,  49, 192,  38,  11,  51, 114,\n",
       "         53, 141, 108,  22, 175, 152,  52,  29, 133, 122, 129,  10, 133,\n",
       "        101,  55, 106,  81, 160, 171, 156,  67,  10, 135,  34,  18,  58,\n",
       "        195,  38,  44,  40,  31, 111, 139, 167,   3, 192,  86,  72,  55,\n",
       "         10, 191, 161,  87, 175, 185, 110,  53, 136,  33,  71, 147, 178,\n",
       "        181, 186,  27, 144,  62,  59, 128, 195,  53, 188, 162,  78, 145,\n",
       "        175,  63,  88, 104,  26, 187,  87, 103, 109,  30,  71, 151, 128,\n",
       "         12, 195,   6, 106,  84,  99,  75,  15, 125, 170, 159,  73, 113,\n",
       "         54, 132, 161,  95,  19,  56,  47, 154,  59,  63,  43, 117, 165,\n",
       "        104, 154,  23, 126, 184,  52,  35, 178,  69, 172,  86,  54,  22,\n",
       "        105, 183, 136,  33, 160, 119, 107,  78, 143, 130,  12, 119, 110,\n",
       "        113, 157,  43, 103, 149,  98,  80,  77, 154,  45, 161, 100, 142,\n",
       "         66, 126,  96, 124, 140,  66, 138, 113, 166,  21,  55, 107,  14,\n",
       "          4,  82,  33, 135,  43,  85,  45,  47, 189,  87, 105,  35, 149,\n",
       "         78, 129, 158,  87, 137, 160,  73, 165, 160, 131,  87,  69,  13,\n",
       "         62, 163])]"
      ]
     },
     "execution_count": 65,
     "metadata": {},
     "output_type": "execute_result"
    }
   ],
   "source": [
    "bag_model.estimators_samples_"
   ]
  },
  {
   "cell_type": "code",
   "execution_count": 66,
   "metadata": {},
   "outputs": [
    {
     "data": {
      "text/plain": [
       "[array([ 4,  6,  6, 14,  5,  2, 11,  9, 11, 12,  8,  0, 16, 11, 14,  8, 16,\n",
       "         5,  2]),\n",
       " array([10,  9,  9, 17, 12,  9, 14,  4,  5,  7,  3, 17, 15,  1,  1,  6, 18,\n",
       "        11, 14]),\n",
       " array([18,  2, 10,  8,  4, 12, 11,  3,  2,  6,  7, 15, 10, 10,  6, 15, 12,\n",
       "         7,  8]),\n",
       " array([ 4,  0,  1, 15, 11, 14, 13, 12,  2,  4,  9,  0, 10, 10, 17,  5,  8,\n",
       "        11, 15]),\n",
       " array([ 0,  8, 17,  5, 16,  2, 15, 18, 11, 12,  9,  1, 17,  9,  0,  2, 11,\n",
       "        13,  8]),\n",
       " array([ 6, 13,  0,  0,  3, 10,  7,  4, 17,  0,  8, 13,  0,  4,  3, 10,  6,\n",
       "        17, 15]),\n",
       " array([ 6, 11,  9,  4,  1,  1,  4, 16,  5,  6,  2, 16, 10, 11,  5, 16, 16,\n",
       "         2,  5]),\n",
       " array([ 3, 10,  8, 13, 15, 14, 12, 13,  1,  0, 15, 13,  3, 10, 13,  2, 12,\n",
       "         8,  5]),\n",
       " array([15,  0, 11,  7, 11, 17,  3, 18,  5,  9,  6,  7,  3, 16,  8,  1,  0,\n",
       "        15,  5]),\n",
       " array([ 6,  0, 10,  3, 16,  7, 17, 11,  8, 14, 16, 13,  6,  9,  6,  4, 10,\n",
       "        14,  0])]"
      ]
     },
     "execution_count": 66,
     "metadata": {},
     "output_type": "execute_result"
    }
   ],
   "source": [
    "bag_model.estimators_features_"
   ]
  },
  {
   "cell_type": "code",
   "execution_count": 75,
   "metadata": {},
   "outputs": [
    {
     "data": {
      "text/plain": [
       "DecisionTreeRegressor(criterion='mse', max_depth=None, max_features=None,\n",
       "                      max_leaf_nodes=None, min_impurity_decrease=0.0,\n",
       "                      min_impurity_split=None, min_samples_leaf=1,\n",
       "                      min_samples_split=2, min_weight_fraction_leaf=0.0,\n",
       "                      presort=False, random_state=616869020, splitter='best')"
      ]
     },
     "execution_count": 75,
     "metadata": {},
     "output_type": "execute_result"
    }
   ],
   "source": [
    "bag_model.estimators_[1]"
   ]
  },
  {
   "cell_type": "markdown",
   "metadata": {},
   "source": [
    "# Tahmin "
   ]
  },
  {
   "cell_type": "code",
   "execution_count": 76,
   "metadata": {},
   "outputs": [],
   "source": [
    "y_pred = bag_model.predict(X_test)"
   ]
  },
  {
   "cell_type": "code",
   "execution_count": 77,
   "metadata": {},
   "outputs": [
    {
     "data": {
      "text/plain": [
       "357.4894278809004"
      ]
     },
     "execution_count": 77,
     "metadata": {},
     "output_type": "execute_result"
    }
   ],
   "source": [
    "np.sqrt(mean_squared_error(y_test, y_pred))"
   ]
  },
  {
   "cell_type": "code",
   "execution_count": 78,
   "metadata": {},
   "outputs": [],
   "source": [
    "iki_y_pred = bag_model.estimators_[1].fit(X_train, y_train).predict(X_test)"
   ]
  },
  {
   "cell_type": "code",
   "execution_count": 79,
   "metadata": {},
   "outputs": [
    {
     "data": {
      "text/plain": [
       "459.6624525771519"
      ]
     },
     "execution_count": 79,
     "metadata": {},
     "output_type": "execute_result"
    }
   ],
   "source": [
    "np.sqrt(mean_squared_error(y_test, iki_y_pred))"
   ]
  },
  {
   "cell_type": "code",
   "execution_count": 80,
   "metadata": {},
   "outputs": [],
   "source": [
    "yedi_y_pred = bag_model.estimators_[4].fit(X_train, y_train).predict(X_test)"
   ]
  },
  {
   "cell_type": "code",
   "execution_count": 81,
   "metadata": {},
   "outputs": [
    {
     "data": {
      "text/plain": [
       "532.3072016234155"
      ]
     },
     "execution_count": 81,
     "metadata": {},
     "output_type": "execute_result"
    }
   ],
   "source": [
    "np.sqrt(mean_squared_error(y_test, yedi_y_pred))"
   ]
  },
  {
   "cell_type": "markdown",
   "metadata": {},
   "source": [
    "# Model Tuning"
   ]
  },
  {
   "cell_type": "code",
   "execution_count": 82,
   "metadata": {},
   "outputs": [
    {
     "data": {
      "text/plain": [
       "BaggingRegressor(base_estimator=None, bootstrap=True, bootstrap_features=True,\n",
       "                 max_features=1.0, max_samples=1.0, n_estimators=10,\n",
       "                 n_jobs=None, oob_score=False, random_state=None, verbose=0,\n",
       "                 warm_start=False)"
      ]
     },
     "execution_count": 82,
     "metadata": {},
     "output_type": "execute_result"
    }
   ],
   "source": [
    "bag_model = BaggingRegressor(bootstrap_features = True)\n",
    "bag_model.fit(X_train, y_train)"
   ]
  },
  {
   "cell_type": "code",
   "execution_count": 83,
   "metadata": {},
   "outputs": [],
   "source": [
    "bag_params = {\"n_estimators\": range(2,20)}"
   ]
  },
  {
   "cell_type": "code",
   "execution_count": 84,
   "metadata": {},
   "outputs": [],
   "source": [
    "bag_cv_model = GridSearchCV(bag_model, bag_params, cv = 10)"
   ]
  },
  {
   "cell_type": "code",
   "execution_count": 85,
   "metadata": {},
   "outputs": [
    {
     "data": {
      "text/plain": [
       "GridSearchCV(cv=10, error_score='raise-deprecating',\n",
       "             estimator=BaggingRegressor(base_estimator=None, bootstrap=True,\n",
       "                                        bootstrap_features=True,\n",
       "                                        max_features=1.0, max_samples=1.0,\n",
       "                                        n_estimators=10, n_jobs=None,\n",
       "                                        oob_score=False, random_state=None,\n",
       "                                        verbose=0, warm_start=False),\n",
       "             iid='warn', n_jobs=None, param_grid={'n_estimators': range(2, 20)},\n",
       "             pre_dispatch='2*n_jobs', refit=True, return_train_score=False,\n",
       "             scoring=None, verbose=0)"
      ]
     },
     "execution_count": 85,
     "metadata": {},
     "output_type": "execute_result"
    }
   ],
   "source": [
    "bag_cv_model.fit(X_train, y_train)"
   ]
  },
  {
   "cell_type": "code",
   "execution_count": 86,
   "metadata": {},
   "outputs": [
    {
     "data": {
      "text/plain": [
       "{'n_estimators': 19}"
      ]
     },
     "execution_count": 86,
     "metadata": {},
     "output_type": "execute_result"
    }
   ],
   "source": [
    "bag_cv_model.best_params_"
   ]
  },
  {
   "cell_type": "code",
   "execution_count": 87,
   "metadata": {},
   "outputs": [],
   "source": [
    "bag_tuned = BaggingRegressor( n_estimators = 19, random_state = 45)"
   ]
  },
  {
   "cell_type": "code",
   "execution_count": 88,
   "metadata": {},
   "outputs": [
    {
     "data": {
      "text/plain": [
       "BaggingRegressor(base_estimator=None, bootstrap=True, bootstrap_features=False,\n",
       "                 max_features=1.0, max_samples=1.0, n_estimators=19,\n",
       "                 n_jobs=None, oob_score=False, random_state=45, verbose=0,\n",
       "                 warm_start=False)"
      ]
     },
     "execution_count": 88,
     "metadata": {},
     "output_type": "execute_result"
    }
   ],
   "source": [
    "bag_tuned.fit(X_train, y_train)"
   ]
  },
  {
   "cell_type": "code",
   "execution_count": 89,
   "metadata": {},
   "outputs": [],
   "source": [
    "y_pred = bag_tuned.predict(X_test)"
   ]
  },
  {
   "cell_type": "code",
   "execution_count": 90,
   "metadata": {},
   "outputs": [
    {
     "data": {
      "text/plain": [
       "332.4260086061929"
      ]
     },
     "execution_count": 90,
     "metadata": {},
     "output_type": "execute_result"
    }
   ],
   "source": [
    "np.sqrt(mean_squared_error(y_test, y_pred))"
   ]
  },
  {
   "cell_type": "code",
   "execution_count": null,
   "metadata": {},
   "outputs": [],
   "source": []
  },
  {
   "cell_type": "code",
   "execution_count": null,
   "metadata": {},
   "outputs": [],
   "source": []
  }
 ],
 "metadata": {
  "kernelspec": {
   "display_name": "Python 3",
   "language": "python",
   "name": "python3"
  },
  "language_info": {
   "codemirror_mode": {
    "name": "ipython",
    "version": 3
   },
   "file_extension": ".py",
   "mimetype": "text/x-python",
   "name": "python",
   "nbconvert_exporter": "python",
   "pygments_lexer": "ipython3",
   "version": "3.7.1"
  }
 },
 "nbformat": 4,
 "nbformat_minor": 2
}
